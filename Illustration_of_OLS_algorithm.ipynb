{
  "nbformat": 4,
  "nbformat_minor": 0,
  "metadata": {
    "colab": {
      "name": "Illustration of OLS algorithm.ipynb",
      "provenance": [],
      "include_colab_link": true
    },
    "kernelspec": {
      "name": "python3",
      "display_name": "Python 3"
    }
  },
  "cells": [
    {
      "cell_type": "markdown",
      "metadata": {
        "id": "view-in-github",
        "colab_type": "text"
      },
      "source": [
        "<a href=\"https://colab.research.google.com/github/uliang/MS9002-Data-mining-techniques/blob/master/Illustration_of_OLS_algorithm.ipynb\" target=\"_parent\"><img src=\"https://colab.research.google.com/assets/colab-badge.svg\" alt=\"Open In Colab\"/></a>"
      ]
    },
    {
      "cell_type": "code",
      "metadata": {
        "id": "0OZuwGvRoO6g",
        "colab_type": "code",
        "colab": {}
      },
      "source": [
        "import numpy as np \n",
        "from scipy.stats import norm"
      ],
      "execution_count": 0,
      "outputs": []
    },
    {
      "cell_type": "code",
      "metadata": {
        "id": "JpWmUW4howaR",
        "colab_type": "code",
        "colab": {}
      },
      "source": [
        "normal_dist = norm(scale=0.5)\n",
        "x = np.linspace(-1, 3, 20) \n",
        "y = -1.3 + 2*x + normal_dist.rvs(size=20)\n"
      ],
      "execution_count": 0,
      "outputs": []
    },
    {
      "cell_type": "markdown",
      "metadata": {
        "id": "xZgls8ECrRTd",
        "colab_type": "text"
      },
      "source": [
        ""
      ]
    },
    {
      "cell_type": "code",
      "metadata": {
        "id": "n3qVJYp7rZka",
        "colab_type": "code",
        "colab": {}
      },
      "source": [
        "#@title Choose intercept and gradient {display-mode: \"form\"}\n",
        "intercept = -1.26 #@param {type:\"slider\", min:-2, max:3, step:0.02}\n",
        "gradient = 1.9 #@param {type: \"slider\", min: -0.5, max:10, step: 0.05}\n",
        "\n"
      ],
      "execution_count": 0,
      "outputs": []
    },
    {
      "cell_type": "code",
      "metadata": {
        "id": "_Ez6rTQTqQNk",
        "colab_type": "code",
        "colab": {
          "base_uri": "https://localhost:8080/",
          "height": 490
        },
        "outputId": "6a40e020-825f-46e0-9bd7-405ec73b505e"
      },
      "source": [
        "%matplotlib inline \n",
        "\n",
        "import matplotlib.pyplot as plt\n",
        "\n",
        "fig, ax = plt.subplots(1,1, figsize=(10,8))\n",
        "\n",
        "ax.spines['left'].set_position(('data', 0))\n",
        "ax.spines['bottom'].set_position(('data', 0))\n",
        "ax.spines['top'].set_visible(False)\n",
        "ax.spines['right'].set_visible(False)\n",
        "\n",
        "xx = np.linspace(-1, 3, 100)\n",
        "y_model = intercept + gradient * xx\n",
        "\n",
        "ssr = np.sum(np.power(y - (intercept + gradient * x), 2))\n",
        "\n",
        "ax.plot(x,y, 'ro')\n",
        "ax.plot(xx, y_model, 'b-', label='Candidate regression equation')\n",
        "ax.text(1., 4.5, f'Sum of squared residuals: {ssr:.2f}')\n",
        "\n",
        "ax.legend(loc='best')"
      ],
      "execution_count": 35,
      "outputs": [
        {
          "output_type": "execute_result",
          "data": {
            "text/plain": [
              "<matplotlib.legend.Legend at 0x7fa2ce67ed68>"
            ]
          },
          "metadata": {
            "tags": []
          },
          "execution_count": 35
        },
        {
          "output_type": "display_data",
          "data": {
            "image/png": "[encoded data removed]",
            "text/plain": [
              "<Figure size 720x576 with 1 Axes>"
            ]
          },
          "metadata": {
            "tags": []
          }
        }
      ]
    },
    {
      "cell_type": "code",
      "metadata": {
        "id": "OBrIwrzJqjoy",
        "colab_type": "code",
        "colab": {}
      },
      "source": [
        ""
      ],
      "execution_count": 0,
      "outputs": []
    }
  ]
}