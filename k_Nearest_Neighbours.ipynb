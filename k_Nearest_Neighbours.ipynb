{
  "nbformat": 4,
  "nbformat_minor": 0,
  "metadata": {
    "colab": {
      "name": "k Nearest Neighbours.ipynb",
      "version": "0.3.2",
      "provenance": [],
      "collapsed_sections": [],
      "include_colab_link": true
    },
    "kernelspec": {
      "name": "python3",
      "display_name": "Python 3"
    }
  },
  "cells": [
    {
      "cell_type": "markdown",
      "metadata": {
        "id": "view-in-github",
        "colab_type": "text"
      },
      "source": [
        "<a href=\"https://colab.research.google.com/github/uliang/MS9002-Data-mining-techniques/blob/master/k_Nearest_Neighbours.ipynb\" target=\"_parent\"><img src=\"https://colab.research.google.com/assets/colab-badge.svg\" alt=\"Open In Colab\"/></a>"
      ]
    },
    {
      "metadata": {
        "id": "92sU_Ak_BGzs",
        "colab_type": "code",
        "colab": {}
      },
      "cell_type": "code",
      "source": [
        ""
      ],
      "execution_count": 0,
      "outputs": []
    },
    {
      "metadata": {
        "id": "eyJMBvSGC82Q",
        "colab_type": "text"
      },
      "cell_type": "markdown",
      "source": [
        "*MS9002: Data Mining Techniques* \n",
        "\n",
        "###Python Lab session 2: Understanding the $k$ nearest neighbours algorithm\n",
        "\n",
        "\n",
        "---\n",
        "\n",
        "\n",
        "\n",
        "In this lab session, we will investigate how to tune the value of $k$ in the nearest neighbours algorithm using a simple cross validation procedure. \n",
        "\n",
        "*Learning objectives* \n",
        "\n",
        "- To analyze the effect of rescaling on the accuracy of prediction with a nearest neighbour algorithm. \n",
        "-  To study the effect of changing the parameter $k$ on the accuracy of a nearest neighbour \n",
        "classifier. \n",
        "\n",
        "### Dataset description "
      ]
    },
    {
      "metadata": {
        "id": "9stBDWd3D-iV",
        "colab_type": "code",
        "outputId": "8c24229f-ce39-4c32-e463-82f80102246b",
        "colab": {
          "base_uri": "https://localhost:8080/",
          "height": 2023
        }
      },
      "cell_type": "code",
      "source": [
        "\n",
        "from sklearn.datasets import load_breast_cancer\n",
        "import seaborn as sns\n",
        "import pandas as pd\n",
        "import numpy as np\n",
        "\n",
        "dataset = load_breast_cancer()\n",
        "\n",
        "## we create this dataframe for visualization and data analysis. \n",
        "\n",
        "df = pd.DataFrame(np.c_[dataset['data'], dataset['target']],\n",
        "                  columns=list(dataset['feature_names'])+['target'])\\\n",
        "      .replace({'target': {1: 'benign', 0: 'malignant'}})\n",
        "  \n",
        "print(dataset['DESCR'])"
      ],
      "execution_count": 4,
      "outputs": [
        {
          "output_type": "stream",
          "text": [
            ".. _breast_cancer_dataset:\n",
            "\n",
            "Breast cancer wisconsin (diagnostic) dataset\n",
            "--------------------------------------------\n",
            "\n",
            "**Data Set Characteristics:**\n",
            "\n",
            "    :Number of Instances: 569\n",
            "\n",
            "    :Number of Attributes: 30 numeric, predictive attributes and the class\n",
            "\n",
            "    :Attribute Information:\n",
            "        - radius (mean of distances from center to points on the perimeter)\n",
            "        - texture (standard deviation of gray-scale values)\n",
            "        - perimeter\n",
            "        - area\n",
            "        - smoothness (local variation in radius lengths)\n",
            "        - compactness (perimeter^2 / area - 1.0)\n",
            "        - concavity (severity of concave portions of the contour)\n",
            "        - concave points (number of concave portions of the contour)\n",
            "        - symmetry \n",
            "        - fractal dimension (\"coastline approximation\" - 1)\n",
            "\n",
            "        The mean, standard error, and \"worst\" or largest (mean of the three\n",
            "        largest values) of these features were computed for each image,\n",
            "        resulting in 30 features.  For instance, field 3 is Mean Radius, field\n",
            "        13 is Radius SE, field 23 is Worst Radius.\n",
            "\n",
            "        - class:\n",
            "                - WDBC-Malignant\n",
            "                - WDBC-Benign\n",
            "\n",
            "    :Summary Statistics:\n",
            "\n",
            "    ===================================== ====== ======\n",
            "                                           Min    Max\n",
            "    ===================================== ====== ======\n",
            "    radius (mean):                        6.981  28.11\n",
            "    texture (mean):                       9.71   39.28\n",
            "    perimeter (mean):                     43.79  188.5\n",
            "    area (mean):                          143.5  2501.0\n",
            "    smoothness (mean):                    0.053  0.163\n",
            "    compactness (mean):                   0.019  0.345\n",
            "    concavity (mean):                     0.0    0.427\n",
            "    concave points (mean):                0.0    0.201\n",
            "    symmetry (mean):                      0.106  0.304\n",
            "    fractal dimension (mean):             0.05   0.097\n",
            "    radius (standard error):              0.112  2.873\n",
            "    texture (standard error):             0.36   4.885\n",
            "    perimeter (standard error):           0.757  21.98\n",
            "    area (standard error):                6.802  542.2\n",
            "    smoothness (standard error):          0.002  0.031\n",
            "    compactness (standard error):         0.002  0.135\n",
            "    concavity (standard error):           0.0    0.396\n",
            "    concave points (standard error):      0.0    0.053\n",
            "    symmetry (standard error):            0.008  0.079\n",
            "    fractal dimension (standard error):   0.001  0.03\n",
            "    radius (worst):                       7.93   36.04\n",
            "    texture (worst):                      12.02  49.54\n",
            "    perimeter (worst):                    50.41  251.2\n",
            "    area (worst):                         185.2  4254.0\n",
            "    smoothness (worst):                   0.071  0.223\n",
            "    compactness (worst):                  0.027  1.058\n",
            "    concavity (worst):                    0.0    1.252\n",
            "    concave points (worst):               0.0    0.291\n",
            "    symmetry (worst):                     0.156  0.664\n",
            "    fractal dimension (worst):            0.055  0.208\n",
            "    ===================================== ====== ======\n",
            "\n",
            "    :Missing Attribute Values: None\n",
            "\n",
            "    :Class Distribution: 212 - Malignant, 357 - Benign\n",
            "\n",
            "    :Creator:  Dr. William H. Wolberg, W. Nick Street, Olvi L. Mangasarian\n",
            "\n",
            "    :Donor: Nick Street\n",
            "\n",
            "    :Date: November, 1995\n",
            "\n",
            "This is a copy of UCI ML Breast Cancer Wisconsin (Diagnostic) datasets.\n",
            "https://goo.gl/U2Uwz2\n",
            "\n",
            "Features are computed from a digitized image of a fine needle\n",
            "aspirate (FNA) of a breast mass.  They describe\n",
            "characteristics of the cell nuclei present in the image.\n",
            "\n",
            "Separating plane described above was obtained using\n",
            "Multisurface Method-Tree (MSM-T) [K. P. Bennett, \"Decision Tree\n",
            "Construction Via Linear Programming.\" Proceedings of the 4th\n",
            "Midwest Artificial Intelligence and Cognitive Science Society,\n",
            "pp. 97-101, 1992], a classification method which uses linear\n",
            "programming to construct a decision tree.  Relevant features\n",
            "were selected using an exhaustive search in the space of 1-4\n",
            "features and 1-3 separating planes.\n",
            "\n",
            "The actual linear program used to obtain the separating plane\n",
            "in the 3-dimensional space is that described in:\n",
            "[K. P. Bennett and O. L. Mangasarian: \"Robust Linear\n",
            "Programming Discrimination of Two Linearly Inseparable Sets\",\n",
            "Optimization Methods and Software 1, 1992, 23-34].\n",
            "\n",
            "This database is also available through the UW CS ftp server:\n",
            "\n",
            "ftp ftp.cs.wisc.edu\n",
            "cd math-prog/cpo-dataset/machine-learn/WDBC/\n",
            "\n",
            ".. topic:: References\n",
            "\n",
            "   - W.N. Street, W.H. Wolberg and O.L. Mangasarian. Nuclear feature extraction \n",
            "     for breast tumor diagnosis. IS&T/SPIE 1993 International Symposium on \n",
            "     Electronic Imaging: Science and Technology, volume 1905, pages 861-870,\n",
            "     San Jose, CA, 1993.\n",
            "   - O.L. Mangasarian, W.N. Street and W.H. Wolberg. Breast cancer diagnosis and \n",
            "     prognosis via linear programming. Operations Research, 43(4), pages 570-577, \n",
            "     July-August 1995.\n",
            "   - W.H. Wolberg, W.N. Street, and O.L. Mangasarian. Machine learning techniques\n",
            "     to diagnose breast cancer from fine-needle aspirates. Cancer Letters 77 (1994) \n",
            "     163-171.\n"
          ],
          "name": "stdout"
        }
      ]
    },
    {
      "metadata": {
        "id": "sWnOLiiBG9wD",
        "colab_type": "code",
        "colab": {}
      },
      "cell_type": "code",
      "source": [
        "## Splitting the dataset into 80:20 training instances and \n",
        "## testing instances. \n",
        "from sklearn.model_selection import train_test_split\n",
        "\n",
        "X_train, X_test, y_train, y_test = train_test_split(\n",
        "    dataset['data'], dataset['target'], test_size=0.2, random_state=1)\n",
        "\n"
      ],
      "execution_count": 0,
      "outputs": []
    },
    {
      "metadata": {
        "id": "zsW2E_oAMiMY",
        "colab_type": "text"
      },
      "cell_type": "markdown",
      "source": [
        "We are able to visualize the distribution of labels in this multi dimensional dataset using a technique known as PCA. As always, data observation and visual analysis is only performed on the training set. "
      ]
    },
    {
      "metadata": {
        "id": "z-g6iXDGJTUw",
        "colab_type": "code",
        "colab": {
          "base_uri": "https://localhost:8080/",
          "height": 382
        },
        "outputId": "4a8fe6ba-d7a2-4ee0-874f-c988ce782999"
      },
      "cell_type": "code",
      "source": [
        "from sklearn.decomposition import PCA\n",
        "from sklearn.preprocessing import Normalizer\n",
        "from sklearn.pipeline import make_pipeline\n",
        "\n",
        "visual_pipeline = make_pipeline(Normalizer(), PCA(n_components=2))\n",
        "\n",
        "X_reduced = visual_pipeline.fit_transform(X_train)\n",
        "pd.DataFrame(np.c_[X_reduced, y_train],\n",
        "             columns=['Component 1', 'Component 2', 'Labels'])\\\n",
        "  .replace({'Labels': {0: 'Malignant', 1:'Benign'}})\\\n",
        "  .pipe((sns.lmplot, 'data'),\n",
        "        x='Component 1', y='Component 2', hue='Labels', fit_reg=False)"
      ],
      "execution_count": 20,
      "outputs": [
        {
          "output_type": "execute_result",
          "data": {
            "text/plain": [
              "<seaborn.axisgrid.FacetGrid at 0x7f6fc452c048>"
            ]
          },
          "metadata": {
            "tags": []
          },
          "execution_count": 20
        },
        {
          "output_type": "display_data",
          "data": {
            "image/png": "[encoded data removed]",
            "text/plain": [
              "<Figure size 439.375x360 with 1 Axes>"
            ]
          },
          "metadata": {
            "tags": []
          }
        }
      ]
    },
    {
      "metadata": {
        "id": "YbXI3hfnM1VU",
        "colab_type": "text"
      },
      "cell_type": "markdown",
      "source": [
        "**Discussion** \n",
        "\n",
        "1. What do you notice about the distribution of data points with respect to the labels? \n",
        "\n",
        "\n",
        "\n",
        "\n",
        "2. Would you be optimistic about constructing a data mining model? Why or why not? \n",
        "\n",
        "\n",
        "\n",
        "---\n",
        "\n",
        "### Modelling\n",
        "\n",
        "Let us build a k-nearest neighbours model and evaluate it's performance. "
      ]
    },
    {
      "metadata": {
        "id": "3RE7I1ILL4ca",
        "colab_type": "code",
        "colab": {},
        "cellView": "form"
      },
      "cell_type": "code",
      "source": [
        "#@title Set the number of nearest neighbours\n",
        "k = 3 #@param {type:\"integer\"}\n",
        "\n"
      ],
      "execution_count": 0,
      "outputs": []
    },
    {
      "metadata": {
        "id": "RAozty60OR4z",
        "colab_type": "code",
        "colab": {
          "base_uri": "https://localhost:8080/",
          "height": 68
        },
        "outputId": "7518b675-6de9-4434-dd54-b7797100c8f3"
      },
      "cell_type": "code",
      "source": [
        "from sklearn.neighbors import KNeighborsClassifier\n",
        "\n",
        "\n",
        "## Validation step \n",
        "if not k > 0: \n",
        "  raise ValueError('Value of k must be positive')\n",
        "  \n",
        "\n",
        "## For apples to apples comparison with automated hyperparameter tuning. \n",
        "## We further reduce down the training set and set aside a portion \n",
        "## as a validation set \n",
        "\n",
        "X_rtrain, X_valid, y_rtrain, y_valid = train_test_split(\n",
        "    X_train, y_train, test_size=0.25, random_state=1)\n",
        "\n",
        "\n",
        "## Building a model. We need to normalize the data before\n",
        "## passing it to the fitted. \n",
        "knn_model = make_pipeline(Normalizer(), KNeighborsClassifier(n_neighbors=k))\n",
        "knn_model.fit(X_rtrain, y_rtain)\n",
        "training_score = knn_model.score(X_rtrain, y_rtrain) \n",
        "validation_score = knn_model.score(X_valid, y_valid) \n",
        "\n",
        "## output \n",
        "print(f'Number of neighbors: {k}')\n",
        "print(f'Training score: {training_score:.4f}')\n",
        "print(f'Validation score: {validation_score:.4f}')"
      ],
      "execution_count": 37,
      "outputs": [
        {
          "output_type": "stream",
          "text": [
            "Number of neighbors: 22\n",
            "Training score: 0.9326\n",
            "Validation score: 0.9123\n"
          ],
          "name": "stdout"
        }
      ]
    },
    {
      "metadata": {
        "id": "ta631MOnRfBJ",
        "colab_type": "text"
      },
      "cell_type": "markdown",
      "source": [
        "__Task__\n",
        "\n",
        "Train the model with different values of  $k$ and observe how the training and validation score changes. Based on the returned scores, how many nearest neighbours would you consider optimal for your model? \n",
        "\n",
        "__Discussion__\n",
        "\n",
        "1. If $k$ is set equal to the entire size of `X_rtrain`, what in effect is the model doing? \n",
        "\n",
        "We can loop over a range of values of $k$ and chart the scores of the model for each value of $k$. "
      ]
    },
    {
      "metadata": {
        "id": "C38rDDiYQ8np",
        "colab_type": "code",
        "colab": {}
      },
      "cell_type": "code",
      "source": [
        "## Uncomment this section and run the cell to see the output\n",
        "\n",
        "\n",
        "##scores = [] \n",
        "##for n_neighbors in range(1, 51): \n",
        "##  knn_model.set_params(kneighborsclassifier__n_neighbors=n_neighbors)\n",
        "##  knn_model.fit(X_rtrain, y_rtrain)\n",
        "##  scores.append((knn_model.score(X_rtrain, y_rtrain),\n",
        "##                 knn_model.score(X_valid, y_valid)))\n",
        "  \n",
        "\n",
        "\n",
        "##pd.DataFrame(np.c_[np.arange(1,51), np.array(scores)],\n",
        "##             columns=['k', 'Training', 'Validation'])\\\n",
        "##  .plot(kind='line', x='k')"
      ],
      "execution_count": 0,
      "outputs": []
    },
    {
      "metadata": {
        "id": "3sEtys7_cv1a",
        "colab_type": "text"
      },
      "cell_type": "markdown",
      "source": [
        "__Discussion__ \n",
        "\n",
        "1. Comment on the behaviour of the model as we increase the values of $k$. Discuss the nature of variability in influencing the obtained scores\n",
        "\n",
        "2. What are the engineering and statistical implications of choosing a value of $k$ which is too high? "
      ]
    },
    {
      "metadata": {
        "id": "o2Yee9Tvb705",
        "colab_type": "code",
        "colab": {}
      },
      "cell_type": "code",
      "source": [
        "## We can use scikit learn's built in cross-validation procedure\n",
        "## to optimize the hyperparameters of the nearest neighbors model. \n",
        "\n",
        "from sklearn.model_selection import GridSearchCV\n",
        "\n",
        "grid_search = GridSearchCV(knn_model, param_grid={\n",
        "    'kneighborsclassifier__n_neighbors': np.arange(1, 51)\n",
        "  }, cv=5, verbose=1, n_jobs=-1 )\n",
        "\n",
        "grid_search.fit(X_train, y_train)\n",
        "best_model = grid_search.best_estimator_\n",
        "test_score = best_model.score(X_test, y_test)\n",
        "\n",
        "## ouputs\n",
        "\n",
        "print('\\n'*2)\n",
        "print('Results\\n','-'*100, sep='')\n",
        "print(*list(grid_search.best_params_.items())[0])\n",
        "print(f'The best cross validated score: {grid_search.best_score_:.4f}')\n",
        "print(f'Score of the refit model on the testing set: {test_score:.4f}\\n\\n')"
      ],
      "execution_count": 0,
      "outputs": []
    },
    {
      "metadata": {
        "id": "QBT4zUIViuBM",
        "colab_type": "text"
      },
      "cell_type": "markdown",
      "source": [
        "__Conclusion__\n",
        "\n",
        "Cross validation helps reduce errors due to bias and variance and gives a more accurate evaluation of model performance. "
      ]
    },
    {
      "metadata": {
        "id": "ypTx3ucji9LQ",
        "colab_type": "code",
        "colab": {}
      },
      "cell_type": "code",
      "source": [
        ""
      ],
      "execution_count": 0,
      "outputs": []
    }
  ]
}