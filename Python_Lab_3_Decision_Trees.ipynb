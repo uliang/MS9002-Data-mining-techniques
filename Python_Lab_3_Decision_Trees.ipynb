{
  "nbformat": 4,
  "nbformat_minor": 0,
  "metadata": {
    "colab": {
      "name": "Python Lab 3: Decision Trees.ipynb",
      "provenance": [],
      "collapsed_sections": [],
      "include_colab_link": true
    },
    "kernelspec": {
      "name": "python3",
      "display_name": "Python 3"
    }
  },
  "cells": [
    {
      "cell_type": "markdown",
      "metadata": {
        "id": "view-in-github",
        "colab_type": "text"
      },
      "source": [
        "<a href=\"https://colab.research.google.com/github/uliang/MS9002-Data-mining-techniques/blob/master/Python_Lab_3_Decision_Trees.ipynb\" target=\"_parent\"><img src=\"https://colab.research.google.com/assets/colab-badge.svg\" alt=\"Open In Colab\"/></a>"
      ]
    },
    {
      "cell_type": "markdown",
      "metadata": {
        "id": "BfgFWcvE-i1H",
        "colab_type": "text"
      },
      "source": [
        "_MS 9002: Data Mining Techniques_\n",
        "\n",
        "### Python Lab session 3: Decision Trees \n",
        "\n",
        "\n",
        "---\n",
        "\n",
        "\n",
        "\n",
        "In this lab we will investigate how to construct and deploy a decision tree model to predict whether a person earns more than $50k a month based on his  census data.  \n",
        "\n",
        "_Learning objectives_\n",
        "\n",
        "- To train and optimize a decision tree model. \n",
        " "
      ]
    },
    {
      "cell_type": "code",
      "metadata": {
        "id": "w-4zKSZuFalm",
        "colab_type": "code",
        "colab": {
          "base_uri": "https://localhost:8080/",
          "height": 34
        },
        "outputId": "33541b5e-4706-4fec-a725-21ac04eff4d0"
      },
      "source": [
        "#@title Obtaining data {display-mode: \"form\"}\n",
        "#@markdown Downloading the data from https://archive.ics.uci.edu/ml/machine-learning-databases/adult/adult.data and assigning column names to the dataset. \n",
        "import pandas as pd \n",
        "import requests\n",
        "resp = requests.get('https://archive.ics.uci.edu/ml/machine-learning-databases/adult/adult.names')\n",
        "# print(resp.text)\n",
        "adult = pd.read_csv('https://archive.ics.uci.edu/ml/machine-learning-databases/adult/adult.data',\n",
        "                       header=None)\n",
        "adult.columns = ['age', 'workclass', 'fnlwgt','education', 'enducation-num',\n",
        "                   'marital-status', 'occupation', 'relationship', 'race',\n",
        "                   'sex', 'capital-gain', 'capital-loss', 'hours-per-week', \n",
        "                   'native-country', 'target']\n",
        "adult.shape"
      ],
      "execution_count": 161,
      "outputs": [
        {
          "output_type": "execute_result",
          "data": {
            "text/plain": [
              "(32561, 15)"
            ]
          },
          "metadata": {
            "tags": []
          },
          "execution_count": 161
        }
      ]
    },
    {
      "cell_type": "code",
      "metadata": {
        "id": "0omAAC6hNnRB",
        "colab_type": "code",
        "outputId": "b7844850-cdff-4a08-f759-785be6d6f50a",
        "colab": {
          "base_uri": "https://localhost:8080/",
          "height": 248
        }
      },
      "source": [
        "#@title Cross validating model {display-mode: \"form\"}\n",
        "#@markdown Decision trees rely on several hyperparameters to control the training of the tree. One such hyperparameter is __minimum samples per leaf__ which is a rule guaranteeing a minimum number of samples at the leaves of the tree. A high number means that our decision tree is shallow, while a small number leads to a more complex tree.\n",
        "min_samples_leaf = 200 #@param {type:\"slider\", min:100, max:200, step:2}\n",
        "\n",
        "## Using Sci Kit learn, we can easily set up cross validation loop to optimize\n",
        "## on several hyper parameters. \n",
        "\n",
        "## Data cleansing. In order to use sci kit learn properly, we need to change\n",
        "## the target labels into integer codes. \n",
        "\n",
        "## Further more, the feature set needs to be binarised. What this means is that\n",
        "## we construct indicator variables for each unique value in a categorical \n",
        "## variable. This has the effect of enlarging our feature set. \n",
        "%matplotlib inline\n",
        "import numpy as np\n",
        "from sklearn.compose import ColumnTransformer\n",
        "from sklearn.preprocessing import OneHotEncoder, LabelBinarizer\n",
        "from sklearn.pipeline import make_pipeline\n",
        "from sklearn.model_selection import train_test_split, validation_curve\n",
        "from sklearn.tree import DecisionTreeClassifier, plot_tree\n",
        "\n",
        "X = adult.iloc[:, :-1]\n",
        "y = adult.loc[:, 'target']\n",
        "\n",
        "X_train, X_test, y_train, y_test =\\\n",
        "  train_test_split(X, y, test_size=0.2)\n",
        "\n",
        "# changing target categories to integer codes \n",
        "lb = LabelBinarizer()\n",
        "y_train = lb.fit_transform(y_train)\n",
        "\n",
        "# handle categorical features with One Hot Encoding scheme\n",
        "ohe = OneHotEncoder(sparse=False, handle_unknown='ignore')\n",
        "categorical = [1,3,5,6,7,8,9,13]\n",
        "column_transformer = ColumnTransformer(transformers=[('ohe', ohe, categorical)], \n",
        "                                       remainder='passthrough')\n",
        "pipeline = make_pipeline(column_transformer, DecisionTreeClassifier())\n",
        "pipeline.set_params(decisiontreeclassifier__min_samples_leaf=min_samples_leaf)\n",
        "\n",
        "pipeline.fit(X_train, y_train) \n",
        "clf = pipeline.named_steps['decisiontreeclassifier'] \n",
        "\n",
        "plot_tree(clf);\n"
      ],
      "execution_count": 179,
      "outputs": [
        {
          "output_type": "display_data",
          "data": {
            "image/png": "[encoded data removed]",
            "text/plain": [
              "<Figure size 432x288 with 1 Axes>"
            ]
          },
          "metadata": {
            "tags": []
          }
        }
      ]
    },
    {
      "cell_type": "code",
      "metadata": {
        "id": "UcNWIrvFN9DI",
        "colab_type": "code",
        "colab": {},
        "cellView": "form"
      },
      "source": [
        "#@markdown Using code, we can automate the work of tuning models. The results are shown below. {display-mode: \"form\"}\n",
        "import shutil \n",
        "\n",
        "WIDTH, _ = shutil.get_terminal_size() \n",
        "\n",
        "ticks = np.arange(2, 106, 4)\n",
        "\n",
        "train_scores, test_scores =\\\n",
        " validation_curve(pipeline, X_train, y_train, \n",
        "                  param_name='decisiontreeclassifier__min_samples_leaf', \n",
        "                  param_range=ticks, \n",
        "                  cv=5, n_jobs=-1, verbose=0)\n",
        "\n",
        "\n",
        "def generate_confidence_bands(scores, alpha=.95): \n",
        "  from scipy.stats import bayes_mvs\n",
        "  import numpy as np\n",
        "  def mean_ci(arr): \n",
        "    m_cntr, _, __ = bayes_mvs(arr, alpha=alpha)\n",
        "    mean, (lw, up ) = m_cntr\n",
        "    return np.array([mean, lw, up])\n",
        "  return np.apply_along_axis(mean_ci, axis=1, arr=scores)\n",
        "\n",
        "# generate_confidence_bands(train_scores)\n",
        "%matplotlib inline\n",
        "import matplotlib.pyplot as plt\n",
        "\n",
        "training_band = generate_confidence_bands(train_scores)\n",
        "test_band = generate_confidence_bands(test_scores) \n",
        "\n",
        "fig, ax = plt.subplots(1,1,figsize=(10,8)) \n",
        "ax.fill_between(ticks, training_band[:, 1], training_band[:, 2],\n",
        "                color='steelblue', alpha=0.3)\n",
        "ax.fill_between(ticks, test_band[:, 1], test_band[:, 2], color='orange', alpha=0.3)\n",
        "ax.plot(ticks, training_band[:, 0], color='steelblue', label='Training curve') \n",
        "ax.plot(ticks, test_band[:, 0], color='orange', label='Validation curve')\n",
        "\n",
        "ax.legend(loc='best') \n",
        "ax.set_title('Validation curve with 95% confidence band')\n",
        "ax.set_ylabel('Accuracy')\n",
        "ax.set_xlabel('Minimum samples per leaf');\n",
        "\n",
        "# automated hyperparameter tuning \n",
        "from sklearn.model_selection import GridSearchCV \n",
        "\n",
        "grid = GridSearchCV(pipeline, param_grid={\n",
        "    'decisiontreeclassifier__min_samples_leaf': ticks, \n",
        "    }, scoring='accuracy',\n",
        "    n_jobs=-1, cv=5, verbose=1 )\n",
        "grid.fit(X_train, y_train)\n",
        "\n",
        "print('='*WIDTH + '\\n')\n",
        "print('{} = {}'.format(*list(grid.best_params_.items())[0]))\n",
        "print('Best validation score: {:.4f}'.format(grid.best_score_))\n",
        "\n",
        "# Using best model and doing a final evaluation \n",
        "from sklearn.metrics import classification_report\n",
        "y_test = lb.transform(y_test)\n",
        "y_pred = grid.predict(X_test)\n",
        "print('='*WIDTH + '\\n')\n",
        "print(classification_report(y_test, y_pred, digits=4))\n",
        "print('='*WIDTH + '\\n')"
      ],
      "execution_count": 0,
      "outputs": []
    },
    {
      "cell_type": "markdown",
      "metadata": {
        "id": "QSDKjSgYSy5T",
        "colab_type": "text"
      },
      "source": [
        "__Discussion questions__\n",
        "\n",
        "1. When you run the cell above, take special note of the way the graph for `mean_train_score` interacts with `mean_test_score`. Comment on this behaviour. \n",
        "\n",
        "2. What will be the effect of increasing the `min_samples_leaf` hyper parameter even further? \n",
        "\n",
        "3. What would be the optimal number of `min_samples_leaf`? "
      ]
    }
  ]
}