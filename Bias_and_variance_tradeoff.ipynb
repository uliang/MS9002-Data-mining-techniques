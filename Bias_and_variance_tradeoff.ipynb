{
  "nbformat": 4,
  "nbformat_minor": 0,
  "metadata": {
    "colab": {
      "name": "Bias and variance tradeoff.ipynb",
      "version": "0.3.2",
      "provenance": [],
      "include_colab_link": true
    },
    "kernelspec": {
      "name": "python3",
      "display_name": "Python 3"
    }
  },
  "cells": [
    {
      "cell_type": "markdown",
      "metadata": {
        "id": "view-in-github",
        "colab_type": "text"
      },
      "source": [
        "<a href=\"https://colab.research.google.com/github/uliang/MS9002-Data-mining-techniques/blob/master/Bias_and_variance_tradeoff.ipynb\" target=\"_parent\"><img src=\"https://colab.research.google.com/assets/colab-badge.svg\" alt=\"Open In Colab\"/></a>"
      ]
    },
    {
      "metadata": {
        "id": "Sc6hg5l5XffC",
        "colab_type": "text"
      },
      "cell_type": "markdown",
      "source": [
        "*MS9002: Data Mining Techniques*\n",
        "### Python lab session 1 : Understanding bias and variance errors \n",
        "\n",
        "---\n",
        "\n",
        "In this lab session, we will investigate how a model may perform poorly due to bias and variance. \n",
        "\n",
        "*Learning objectives*\n",
        "\n",
        "- To recall the concept of bias and variance error and how it affects model performance. \n",
        "- To analyze steps that can be taken to mitigate bias and variance\n"
      ]
    },
    {
      "metadata": {
        "id": "GK1uDpD8WIpF",
        "colab_type": "code",
        "colab": {}
      },
      "cell_type": "code",
      "source": [
        ""
      ],
      "execution_count": 0,
      "outputs": []
    }
  ]
}